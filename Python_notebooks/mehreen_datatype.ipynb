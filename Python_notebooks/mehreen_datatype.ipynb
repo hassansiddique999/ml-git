{
  "cells": [
    {
      "cell_type": "code",
      "execution_count": null,
      "metadata": {
        "id": "0QwEZNSVo0yZ"
      },
      "outputs": [],
      "source": []
    },
    {
      "cell_type": "markdown",
      "metadata": {
        "id": "4W0ge_f3rk9d"
      },
      "source": [
        "numeric data types "
      ]
    },
    {
      "cell_type": "code",
      "execution_count": 1,
      "metadata": {
        "colab": {
          "base_uri": "https://localhost:8080/"
        },
        "id": "IGV9ae47rl_J",
        "outputId": "0f31de12-28a5-41bd-b7b4-7238967b9436"
      },
      "outputs": [
        {
          "name": "stdout",
          "output_type": "stream",
          "text": [
            "30\n"
          ]
        }
      ],
      "source": [
        "#integer data type\n",
        "x=10 #integer value\n",
        "y=20  #int value\n",
        "z=x+y\n",
        "print(x+y)"
      ]
    },
    {
      "cell_type": "code",
      "execution_count": 3,
      "metadata": {
        "colab": {
          "base_uri": "https://localhost:8080/"
        },
        "id": "cbp4u4msrxXz",
        "outputId": "fff4aff1-a72c-4c3c-d1b2-1d14ecd6c86f"
      },
      "outputs": [
        {
          "name": "stdout",
          "output_type": "stream",
          "text": [
            "10\n",
            "<class 'int'>\n"
          ]
        }
      ],
      "source": [
        "#python is dynamically typed-- you dint have the declare the type of varuiable\n",
        "x=10\n",
        "print(x)\n",
        "print(type(x))"
      ]
    },
    {
      "cell_type": "code",
      "execution_count": null,
      "metadata": {
        "id": "yzaVyvmXsMTQ"
      },
      "outputs": [],
      "source": [
        "#numeric operations\n",
        "x=5\n",
        "y=2\n",
        "print(x+y)\n",
        "print(x-y)\n",
        "print(x*y)\n",
        "print(x/y)\n",
        "print(x%y)  #modulus operator(remainder)\n",
        "print(x**y)\n",
        "print(x//y) #quotient , integer value only (floor division)"
      ]
    },
    {
      "cell_type": "code",
      "execution_count": 4,
      "metadata": {
        "colab": {
          "base_uri": "https://localhost:8080/"
        },
        "id": "-_x69Dnvr-WH",
        "outputId": "d56b10af-bb75-4f80-fc16-ca5d1ec6e20e"
      },
      "outputs": [
        {
          "name": "stdout",
          "output_type": "stream",
          "text": [
            "3\n"
          ]
        }
      ],
      "source": [
        "x=10\n",
        "y=3\n",
        "z=x//y\n",
        "print(z)"
      ]
    },
    {
      "cell_type": "code",
      "execution_count": 5,
      "metadata": {
        "colab": {
          "base_uri": "https://localhost:8080/"
        },
        "id": "-Fh_i4_1sp63",
        "outputId": "aaa2db52-ea90-48ae-c483-70e0c4c61857"
      },
      "outputs": [
        {
          "name": "stdout",
          "output_type": "stream",
          "text": [
            "10\n"
          ]
        }
      ],
      "source": [
        "#negarive integrs\n",
        "x=-10\n",
        "print(abs(-10))  #absolute only the positive value of an integer"
      ]
    },
    {
      "cell_type": "code",
      "execution_count": 6,
      "metadata": {
        "colab": {
          "base_uri": "https://localhost:8080/"
        },
        "id": "SDXn0DO7sj6k",
        "outputId": "b5604a3b-9545-40e9-edab-289aa54387b0"
      },
      "outputs": [
        {
          "name": "stdout",
          "output_type": "stream",
          "text": [
            "1.8621114188981225\n"
          ]
        }
      ],
      "source": [
        "#floating point\n",
        "height_mehreen=5.7 #flaoting point integer\n",
        "weight_mehreen=60.5\n",
        "bmi=weight_mehreen/height_mehreen**2\n",
        "print(bmi)"
      ]
    },
    {
      "cell_type": "code",
      "execution_count": 7,
      "metadata": {
        "colab": {
          "base_uri": "https://localhost:8080/"
        },
        "id": "1ol8ogYGtTmu",
        "outputId": "adee0e22-15ad-46e6-a64e-7f9d1b4f8859"
      },
      "outputs": [
        {
          "name": "stdout",
          "output_type": "stream",
          "text": [
            "<class 'float'>\n"
          ]
        }
      ],
      "source": [
        "print(type(bmi))"
      ]
    },
    {
      "cell_type": "code",
      "execution_count": 8,
      "metadata": {
        "colab": {
          "base_uri": "https://localhost:8080/"
        },
        "id": "c4vCFUhwtWvx",
        "outputId": "d73f0a44-8e9b-4a0a-bd16-1821c8ba482a"
      },
      "outputs": [
        {
          "name": "stdout",
          "output_type": "stream",
          "text": [
            "85.0\n",
            "equivalent in EUR:  85.00\n"
          ]
        }
      ],
      "source": [
        "#currency exchange financial caluclation\n",
        "usd_amount=100.0\n",
        "exchange_rate=0.85\n",
        "eur_amount=usd_amount*exchange_rate\n",
        "print(eur_amount)\n",
        "print(f\"equivalent in EUR: {eur_amount: .2f}\") #format to 2 decimal places"
      ]
    },
    {
      "cell_type": "code",
      "execution_count": 9,
      "metadata": {
        "colab": {
          "base_uri": "https://localhost:8080/"
        },
        "id": "eKLAT3L4ugzK",
        "outputId": "3e7ce130-3832-4227-c7a0-6b5c953ae17a"
      },
      "outputs": [
        {
          "name": "stdout",
          "output_type": "stream",
          "text": [
            "0.4533\n"
          ]
        }
      ],
      "source": [
        "#image processing #rgb to gray scale\n",
        "pixel_red=0.3\n",
        "pixel_green=0.6\n",
        "pixel_blue=0.1\n",
        "gray_scale=pixel_red*0.299+pixel_green*0.587+pixel_blue*0.114\n",
        "print(gray_scale)\n"
      ]
    },
    {
      "cell_type": "code",
      "execution_count": 10,
      "metadata": {
        "colab": {
          "base_uri": "https://localhost:8080/"
        },
        "id": "KeCwSIfvwFKM",
        "outputId": "cccb74d2-fedd-4fac-869c-2b0f765afcd5"
      },
      "outputs": [
        {
          "name": "stdout",
          "output_type": "stream",
          "text": [
            " scaled_value: 0.25\n"
          ]
        }
      ],
      "source": [
        "#normalisation( float point to scale[0-1])-min-max scaling , scandard scaler #contribute equally to ML predicitve modelling\n",
        "orig_value=85\n",
        "min_value=80\n",
        "max_value=100\n",
        "norm_value=(orig_value-min_value)/(max_value-min_value)\n",
        "print(f\" scaled_value: {norm_value}\")"
      ]
    },
    {
      "cell_type": "code",
      "execution_count": 12,
      "metadata": {
        "colab": {
          "base_uri": "https://localhost:8080/"
        },
        "id": "vApgelzWwtu9",
        "outputId": "657011c1-573d-4544-cdfd-87ba4f46ec15"
      },
      "outputs": [
        {
          "name": "stdout",
          "output_type": "stream",
          "text": [
            "(5+7j)\n",
            "<class 'complex'>\n"
          ]
        }
      ],
      "source": [
        "#complex number representtion\n",
        "a=3+4j\n",
        "b=2+3j\n",
        "z=a+b\n",
        "print(z)\n",
        "\n",
        "print(type(z))"
      ]
    },
    {
      "cell_type": "markdown",
      "metadata": {},
      "source": [
        "all data types used for numerical operations and data types used for string operations are different. The data types used for numerical operations are int, float"
      ]
    },
    {
      "cell_type": "markdown",
      "metadata": {},
      "source": []
    }
  ],
  "metadata": {
    "colab": {
      "provenance": []
    },
    "kernelspec": {
      "display_name": "Python 3",
      "name": "python3"
    },
    "language_info": {
      "name": "python"
    }
  },
  "nbformat": 4,
  "nbformat_minor": 0
}

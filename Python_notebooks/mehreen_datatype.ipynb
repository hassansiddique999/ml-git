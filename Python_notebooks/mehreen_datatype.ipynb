{
  "nbformat": 4,
  "nbformat_minor": 0,
  "metadata": {
    "colab": {
      "provenance": []
    },
    "kernelspec": {
      "name": "python3",
      "display_name": "Python 3"
    },
    "language_info": {
      "name": "python"
    }
  },
  "cells": [
    {
      "cell_type": "code",
      "execution_count": null,
      "metadata": {
        "id": "0QwEZNSVo0yZ"
      },
      "outputs": [],
      "source": []
    },
    {
      "cell_type": "markdown",
      "source": [
        "data ypes"
      ],
      "metadata": {
        "id": "4W0ge_f3rk9d"
      }
    },
    {
      "cell_type": "code",
      "source": [
        "#integer data type\n",
        "x=10 #integer value\n",
        "y=20  #int value\n",
        "z=x+y\n",
        "print(x+y)"
      ],
      "metadata": {
        "colab": {
          "base_uri": "https://localhost:8080/"
        },
        "id": "IGV9ae47rl_J",
        "outputId": "0f31de12-28a5-41bd-b7b4-7238967b9436"
      },
      "execution_count": 1,
      "outputs": [
        {
          "output_type": "stream",
          "name": "stdout",
          "text": [
            "30\n"
          ]
        }
      ]
    },
    {
      "cell_type": "code",
      "source": [
        "#python is dynamically typed-- you dint have the declare the type of varuiable\n",
        "x=10\n",
        "print(x)\n",
        "print(type(x))"
      ],
      "metadata": {
        "colab": {
          "base_uri": "https://localhost:8080/"
        },
        "id": "cbp4u4msrxXz",
        "outputId": "fff4aff1-a72c-4c3c-d1b2-1d14ecd6c86f"
      },
      "execution_count": 3,
      "outputs": [
        {
          "output_type": "stream",
          "name": "stdout",
          "text": [
            "10\n",
            "<class 'int'>\n"
          ]
        }
      ]
    },
    {
      "cell_type": "code",
      "source": [
        "#numeric operations\n",
        "x=5\n",
        "y=2\n",
        "print(x+y)\n",
        "print(x-y)\n",
        "print(x*y)\n",
        "print(x/y)\n",
        "print(x%y)  #modulus operator(remainder)\n",
        "print(x**y)\n",
        "print(x//y) #quotient , integer value only (floor division)"
      ],
      "metadata": {
        "id": "yzaVyvmXsMTQ"
      },
      "execution_count": null,
      "outputs": []
    },
    {
      "cell_type": "code",
      "source": [
        "x=10\n",
        "y=3\n",
        "z=x//y\n",
        "print(z)"
      ],
      "metadata": {
        "colab": {
          "base_uri": "https://localhost:8080/"
        },
        "id": "-_x69Dnvr-WH",
        "outputId": "d56b10af-bb75-4f80-fc16-ca5d1ec6e20e"
      },
      "execution_count": 4,
      "outputs": [
        {
          "output_type": "stream",
          "name": "stdout",
          "text": [
            "3\n"
          ]
        }
      ]
    },
    {
      "cell_type": "code",
      "source": [
        "#negarive integrs\n",
        "x=-10\n",
        "print(abs(-10))  #absolute only the positive value of an integer"
      ],
      "metadata": {
        "colab": {
          "base_uri": "https://localhost:8080/"
        },
        "id": "-Fh_i4_1sp63",
        "outputId": "aaa2db52-ea90-48ae-c483-70e0c4c61857"
      },
      "execution_count": 5,
      "outputs": [
        {
          "output_type": "stream",
          "name": "stdout",
          "text": [
            "10\n"
          ]
        }
      ]
    },
    {
      "cell_type": "code",
      "source": [
        "#floating point\n",
        "height_mehreen=5.7 #flaoting point integer\n",
        "weight_mehreen=60.5\n",
        "bmi=weight_mehreen/height_mehreen**2\n",
        "print(bmi)"
      ],
      "metadata": {
        "colab": {
          "base_uri": "https://localhost:8080/"
        },
        "id": "SDXn0DO7sj6k",
        "outputId": "b5604a3b-9545-40e9-edab-289aa54387b0"
      },
      "execution_count": 6,
      "outputs": [
        {
          "output_type": "stream",
          "name": "stdout",
          "text": [
            "1.8621114188981225\n"
          ]
        }
      ]
    },
    {
      "cell_type": "code",
      "source": [
        "print(type(bmi))"
      ],
      "metadata": {
        "colab": {
          "base_uri": "https://localhost:8080/"
        },
        "id": "1ol8ogYGtTmu",
        "outputId": "adee0e22-15ad-46e6-a64e-7f9d1b4f8859"
      },
      "execution_count": 7,
      "outputs": [
        {
          "output_type": "stream",
          "name": "stdout",
          "text": [
            "<class 'float'>\n"
          ]
        }
      ]
    },
    {
      "cell_type": "code",
      "source": [
        "#currency exchange financial caluclation\n",
        "usd_amount=100.0\n",
        "exchange_rate=0.85\n",
        "eur_amount=usd_amount*exchange_rate\n",
        "print(eur_amount)\n",
        "print(f\"equivalent in EUR: {eur_amount: .2f}\") #format to 2 decimal places"
      ],
      "metadata": {
        "colab": {
          "base_uri": "https://localhost:8080/"
        },
        "id": "c4vCFUhwtWvx",
        "outputId": "d73f0a44-8e9b-4a0a-bd16-1821c8ba482a"
      },
      "execution_count": 8,
      "outputs": [
        {
          "output_type": "stream",
          "name": "stdout",
          "text": [
            "85.0\n",
            "equivalent in EUR:  85.00\n"
          ]
        }
      ]
    },
    {
      "cell_type": "code",
      "source": [
        "#image processing #rgb to gray scale\n",
        "pixel_red=0.3\n",
        "pixel_green=0.6\n",
        "pixel_blue=0.1\n",
        "gray_scale=pixel_red*0.299+pixel_green*0.587+pixel_blue*0.114\n",
        "print(gray_scale)\n"
      ],
      "metadata": {
        "colab": {
          "base_uri": "https://localhost:8080/"
        },
        "id": "eKLAT3L4ugzK",
        "outputId": "3e7ce130-3832-4227-c7a0-6b5c953ae17a"
      },
      "execution_count": 9,
      "outputs": [
        {
          "output_type": "stream",
          "name": "stdout",
          "text": [
            "0.4533\n"
          ]
        }
      ]
    },
    {
      "cell_type": "code",
      "source": [
        "#normalisation( float point to scale[0-1])-min-max scaling , scandard scaler #contribute equally to ML predicitve modelling\n",
        "orig_value=85\n",
        "min_value=80\n",
        "max_value=100\n",
        "norm_value=(orig_value-min_value)/(max_value-min_value)\n",
        "print(f\" scaled_value: {norm_value}\")"
      ],
      "metadata": {
        "colab": {
          "base_uri": "https://localhost:8080/"
        },
        "id": "KeCwSIfvwFKM",
        "outputId": "cccb74d2-fedd-4fac-869c-2b0f765afcd5"
      },
      "execution_count": 10,
      "outputs": [
        {
          "output_type": "stream",
          "name": "stdout",
          "text": [
            " scaled_value: 0.25\n"
          ]
        }
      ]
    },
    {
      "cell_type": "code",
      "source": [
        "#complex number representtion\n",
        "a=3+4j\n",
        "b=2+3j\n",
        "z=a+b\n",
        "print(z)\n",
        "\n",
        "print(type(z))"
      ],
      "metadata": {
        "colab": {
          "base_uri": "https://localhost:8080/"
        },
        "id": "vApgelzWwtu9",
        "outputId": "657011c1-573d-4544-cdfd-87ba4f46ec15"
      },
      "execution_count": 12,
      "outputs": [
        {
          "output_type": "stream",
          "name": "stdout",
          "text": [
            "(5+7j)\n",
            "<class 'complex'>\n"
          ]
        }
      ]
    }
  ]
}
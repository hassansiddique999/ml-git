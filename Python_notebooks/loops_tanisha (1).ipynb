{
  "nbformat": 4,
  "nbformat_minor": 0,
  "metadata": {
    "colab": {
      "provenance": []
    },
    "kernelspec": {
      "name": "python3",
      "display_name": "Python 3"
    },
    "language_info": {
      "name": "python"
    }
  },
  "cells": [
    {
      "cell_type": "code",
      "execution_count": null,
      "metadata": {
        "colab": {
          "base_uri": "https://localhost:8080/"
        },
        "id": "nOfSigbtQJ9Y",
        "outputId": "ed5c7d51-fc1f-49f0-e228-a47222a95004"
      },
      "outputs": [
        {
          "output_type": "stream",
          "name": "stdout",
          "text": [
            "hello\n",
            "hello\n",
            "hello\n",
            "hello\n",
            "hello\n"
          ]
        }
      ],
      "source": [
        "#for loop\n",
        "for i in range(5):\n",
        "  print(\"hello\")"
      ]
    },
    {
      "cell_type": "code",
      "source": [
        "names=[\"alice\",\"bob\",\"charlie\",\"davis\",\"franken\",\"goerge\"]\n",
        "for i in range(5):\n",
        "  for name in names:\n",
        "    print(f\"happy birthday,  {name}  !!!!!!!\")"
      ],
      "metadata": {
        "colab": {
          "base_uri": "https://localhost:8080/"
        },
        "id": "Ig9-vTI0Tinj",
        "outputId": "dfb1a11e-8b81-4461-a200-f80097e31835"
      },
      "execution_count": null,
      "outputs": [
        {
          "output_type": "stream",
          "name": "stdout",
          "text": [
            "happy birthday,  alice  !!!!!!!\n",
            "happy birthday,  bob  !!!!!!!\n",
            "happy birthday,  charlie  !!!!!!!\n",
            "happy birthday,  davis  !!!!!!!\n",
            "happy birthday,  franken  !!!!!!!\n",
            "happy birthday,  goerge  !!!!!!!\n",
            "happy birthday,  alice  !!!!!!!\n",
            "happy birthday,  bob  !!!!!!!\n",
            "happy birthday,  charlie  !!!!!!!\n",
            "happy birthday,  davis  !!!!!!!\n",
            "happy birthday,  franken  !!!!!!!\n",
            "happy birthday,  goerge  !!!!!!!\n",
            "happy birthday,  alice  !!!!!!!\n",
            "happy birthday,  bob  !!!!!!!\n",
            "happy birthday,  charlie  !!!!!!!\n",
            "happy birthday,  davis  !!!!!!!\n",
            "happy birthday,  franken  !!!!!!!\n",
            "happy birthday,  goerge  !!!!!!!\n",
            "happy birthday,  alice  !!!!!!!\n",
            "happy birthday,  bob  !!!!!!!\n",
            "happy birthday,  charlie  !!!!!!!\n",
            "happy birthday,  davis  !!!!!!!\n",
            "happy birthday,  franken  !!!!!!!\n",
            "happy birthday,  goerge  !!!!!!!\n",
            "happy birthday,  alice  !!!!!!!\n",
            "happy birthday,  bob  !!!!!!!\n",
            "happy birthday,  charlie  !!!!!!!\n",
            "happy birthday,  davis  !!!!!!!\n",
            "happy birthday,  franken  !!!!!!!\n",
            "happy birthday,  goerge  !!!!!!!\n"
          ]
        }
      ]
    },
    {
      "cell_type": "code",
      "source": [
        "fruit_basket=[\"apple\", \"banana\",\"orange\",\"watermelo\",\"grapes\"]\n",
        "\n",
        "for i in fruit_basket:\n",
        "  print(i)"
      ],
      "metadata": {
        "colab": {
          "base_uri": "https://localhost:8080/"
        },
        "id": "SbqsojRmU3xN",
        "outputId": "080b1a3c-32be-469a-a17d-a9fed38f3585"
      },
      "execution_count": null,
      "outputs": [
        {
          "output_type": "stream",
          "name": "stdout",
          "text": [
            "apple\n",
            "banana\n",
            "orange\n",
            "watermelo\n",
            "grapes\n"
          ]
        }
      ]
    },
    {
      "cell_type": "code",
      "source": [
        "#iterate through the string\n",
        "word=\"tanisha aggrawal\"\n",
        "for letter in word:\n",
        "  print(letter)"
      ],
      "metadata": {
        "colab": {
          "base_uri": "https://localhost:8080/"
        },
        "id": "mGB1RWyLVGaj",
        "outputId": "f32ac3b8-cd3d-4a58-b182-141ce65b7d2c"
      },
      "execution_count": null,
      "outputs": [
        {
          "output_type": "stream",
          "name": "stdout",
          "text": [
            "t\n",
            "a\n",
            "n\n",
            "i\n",
            "s\n",
            "h\n",
            "a\n",
            " \n",
            "a\n",
            "g\n",
            "g\n",
            "r\n",
            "a\n",
            "w\n",
            "a\n",
            "l\n"
          ]
        }
      ]
    },
    {
      "cell_type": "code",
      "source": [
        "#enumerate by using  for loop\n",
        "color=[\"blue\", \"green\", \"red\"]\n",
        "for index,color in enumerate(color):\n",
        "  print(f\"{index}:{color}\")"
      ],
      "metadata": {
        "colab": {
          "base_uri": "https://localhost:8080/"
        },
        "id": "3mhjz1v2VXok",
        "outputId": "e6e1e344-2808-4c71-b285-79296d589648"
      },
      "execution_count": null,
      "outputs": [
        {
          "output_type": "stream",
          "name": "stdout",
          "text": [
            "0:blue\n",
            "1:green\n",
            "2:red\n"
          ]
        }
      ]
    },
    {
      "cell_type": "code",
      "source": [
        "#break in for loop\n",
        "for i in range(10):\n",
        "  if i==5:\n",
        "    break #stop executing\n",
        "  print(i)"
      ],
      "metadata": {
        "colab": {
          "base_uri": "https://localhost:8080/"
        },
        "id": "EyYC_ACuV9v8",
        "outputId": "4e63b205-b9ce-407c-c301-6157e29710be"
      },
      "execution_count": null,
      "outputs": [
        {
          "output_type": "stream",
          "name": "stdout",
          "text": [
            "0\n",
            "1\n",
            "2\n",
            "3\n",
            "4\n"
          ]
        }
      ]
    },
    {
      "cell_type": "code",
      "source": [
        "#continue in for loop\n",
        "for i in range(10):\n",
        "  if i==5:\n",
        "    continue #skip 5 and continue printing the rest of numbers\n",
        "  print(i)"
      ],
      "metadata": {
        "colab": {
          "base_uri": "https://localhost:8080/"
        },
        "id": "zeL3IfpBWbLl",
        "outputId": "60f29558-294d-47bc-f55d-1432159cd723"
      },
      "execution_count": null,
      "outputs": [
        {
          "output_type": "stream",
          "name": "stdout",
          "text": [
            "0\n",
            "1\n",
            "2\n",
            "3\n",
            "4\n",
            "6\n",
            "7\n",
            "8\n",
            "9\n"
          ]
        }
      ]
    },
    {
      "cell_type": "code",
      "source": [
        "#EVEN NUMBERS\n",
        "for i in range(10):\n",
        "  if i%2==0:\n",
        "    print(i)"
      ],
      "metadata": {
        "colab": {
          "base_uri": "https://localhost:8080/"
        },
        "id": "BqRDTHTaXJDd",
        "outputId": "71ebf780-6ad2-4554-f912-f738f221c65d"
      },
      "execution_count": null,
      "outputs": [
        {
          "output_type": "stream",
          "name": "stdout",
          "text": [
            "0\n",
            "2\n",
            "4\n",
            "6\n",
            "8\n"
          ]
        }
      ]
    },
    {
      "cell_type": "code",
      "source": [
        "plants=[\"rose\",\"cactus\",\"orchid\",\"tomato\",\"lilly\"]\n",
        "\n",
        "for plant in plants:\n",
        "  print(plant)"
      ],
      "metadata": {
        "colab": {
          "base_uri": "https://localhost:8080/"
        },
        "id": "p4QafU38XhHu",
        "outputId": "e6785a79-3cb6-4274-90da-766c668866f4"
      },
      "execution_count": null,
      "outputs": [
        {
          "output_type": "stream",
          "name": "stdout",
          "text": [
            "rose\n",
            "cactus\n",
            "orchid\n",
            "tomato\n",
            "lilly\n"
          ]
        }
      ]
    },
    {
      "cell_type": "code",
      "source": [
        "#marketing agent - you want to send 1000 emails to the marketing customers in london\n",
        "cust=[\"cusotmer1\",\"customer2\",\"customer3\",\"customer4\",\"customer5\"]\n",
        "for customer in cust:\n",
        "  print(f\"offering 30% discount on new year eve\")\n",
        "  print(f\"sending email to {customer}\")"
      ],
      "metadata": {
        "colab": {
          "base_uri": "https://localhost:8080/"
        },
        "id": "Kn0j8hKMXvKe",
        "outputId": "d9b1075c-423a-4fd7-c894-d2bd5dffddc9"
      },
      "execution_count": null,
      "outputs": [
        {
          "output_type": "stream",
          "name": "stdout",
          "text": [
            "offering 30% discount on new year eve\n",
            "sending email to cusotmer1\n",
            "offering 30% discount on new year eve\n",
            "sending email to customer2\n",
            "offering 30% discount on new year eve\n",
            "sending email to customer3\n",
            "offering 30% discount on new year eve\n",
            "sending email to customer4\n",
            "offering 30% discount on new year eve\n",
            "sending email to customer5\n"
          ]
        }
      ]
    },
    {
      "cell_type": "code",
      "source": [
        "objects=[\"obj1\", \"obj2\", \"obj3\"]\n",
        "for i in objects:\n",
        "  print(f\"make the robotic arm to pick up the {i}\")\n",
        "  print(f\"make the robotic arm to drop the {i}\")"
      ],
      "metadata": {
        "colab": {
          "base_uri": "https://localhost:8080/"
        },
        "id": "hzOp7DphYc5D",
        "outputId": "7c1a51cf-c9ea-448b-8d81-d41cb8cad1c3"
      },
      "execution_count": null,
      "outputs": [
        {
          "output_type": "stream",
          "name": "stdout",
          "text": [
            "make the robotic arm to pick up the obj1\n",
            "make the robotic arm to drop the obj1\n",
            "make the robotic arm to pick up the obj2\n",
            "make the robotic arm to drop the obj2\n",
            "make the robotic arm to pick up the obj3\n",
            "make the robotic arm to drop the obj3\n"
          ]
        }
      ]
    },
    {
      "cell_type": "markdown",
      "source": [
        "while loop : the block of code will continue to execute utill the conditions remains true...."
      ],
      "metadata": {
        "id": "Ygzij7x0Zdt5"
      }
    },
    {
      "cell_type": "code",
      "source": [
        "\n",
        "def fill_water_tank(tank_capacity, fill_rate):\n",
        "  current_volume=0\n",
        "  time_elapsed=0\n",
        "\n",
        "  while current_volume<tank_capacity:\n",
        "    current_volume+=fill_rate\n",
        "    time_elapsed+=1\n",
        "  return time_elapsed\n",
        "\n",
        "#example usage\n",
        "tank_capacity=1000 #litres\n",
        "fill_rate=50 #litres per time\n",
        "\n",
        "time_to_fill=fill_water_tank(tank_capacity, fill_rate)\n",
        "print(f\"it takes {time_to_fill} hours to fill the water tank\")\n"
      ],
      "metadata": {
        "colab": {
          "base_uri": "https://localhost:8080/"
        },
        "id": "aWQ--jDVZ3qB",
        "outputId": "d105d3fc-fa87-44e2-e6e5-d60d3beb8f64"
      },
      "execution_count": null,
      "outputs": [
        {
          "output_type": "stream",
          "name": "stdout",
          "text": [
            "it takes 20 hours to fill the water tank\n"
          ]
        }
      ]
    },
    {
      "cell_type": "code",
      "source": [
        "#number guessing game\n",
        "import random\n",
        "secret_number=random.randint(1,101)\n",
        "guess=0\n",
        "attempts=0\n",
        "\n",
        "print(f\" i am thinking of a number from 1 to 100\")\n",
        "while guess!=secret_number:\n",
        "  guess=int(input(\"guess the number:\"))\n",
        "  attempts +=1\n",
        "\n",
        "  if guess < secret_number:\n",
        "    print(\"guessed number is too low\")\n",
        "  elif guess > secret_number:\n",
        "    print(\"guessed number is too high\")\n",
        "\n",
        "print(f\"congratulations! you guessed the number {secret_number} in {attempts} attempts. \")"
      ],
      "metadata": {
        "colab": {
          "base_uri": "https://localhost:8080/"
        },
        "id": "KudYnJl7b-Oq",
        "outputId": "5b9ee52b-9322-4d76-e6f0-ee7c78ea0265"
      },
      "execution_count": null,
      "outputs": [
        {
          "output_type": "stream",
          "name": "stdout",
          "text": [
            " i am thinking of a number from 1 to 100\n",
            "guess the number:45\n",
            "guessed number is too high\n",
            "guess the number:23\n",
            "guessed number is too low\n",
            "guess the number:35\n",
            "guessed number is too high\n",
            "guess the number:30\n",
            "guessed number is too high\n",
            "guess the number:33\n",
            "guessed number is too high\n",
            "guess the number:31\n",
            "guessed number is too high\n",
            "guess the number:32\n",
            "guessed number is too high\n",
            "guess the number:30\n",
            "guessed number is too high\n",
            "guess the number:25\n",
            "guessed number is too high\n",
            "guess the number:20\n",
            "guessed number is too low\n",
            "guess the number:22\n",
            "guessed number is too low\n",
            "guess the number:25\n",
            "guessed number is too high\n",
            "guess the number:24\n",
            "congratulations! you guessed the number 24 in 13 attempts. \n"
          ]
        }
      ]
    },
    {
      "cell_type": "code",
      "source": [
        "#crteate a while loop in fibonaaci series and factorial..."
      ],
      "metadata": {
        "id": "F_aYjyP4d0b1"
      },
      "execution_count": null,
      "outputs": []
    }
  ]
}